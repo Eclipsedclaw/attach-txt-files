{
 "cells": [
  {
   "cell_type": "code",
   "execution_count": 2,
   "id": "2520499e",
   "metadata": {},
   "outputs": [],
   "source": [
    "import numpy as np\n",
    "import matplotlib as mpl\n",
    "import matplotlib.pyplot as plt\n",
    "from pynverse import inversefunc"
   ]
  },
  {
   "cell_type": "code",
   "execution_count": 106,
   "id": "758dee96",
   "metadata": {},
   "outputs": [],
   "source": [
    "def calcTemp(vt):\n",
    "    \"\"\"\n",
    "    calculates temperature from vt\n",
    "    inputs:\n",
    "    > vt (float) voltage in mV\n",
    "    \"\"\"\n",
    "    numerator = 5.506-np.sqrt(np.power(5.506,2.0) + 4*1.76e-3*(870.6-vt))\n",
    "    denominator = 2*(-1.76e-3)\n",
    "    \n",
    "    return 30.0 + (numerator/denominator)\n",
    "\n",
    "def vt_old(adc):\n",
    "    \"\"\"\n",
    "    calculates vt from ASIC ADC code\n",
    "    inputs:\n",
    "    > adc (int) ASIC ADC code\n",
    "    \n",
    "    returns:\n",
    "    vt (float) voltage in mV\n",
    "    \"\"\"\n",
    "    \n",
    "    return 900 - ((adc-1024)*1.76/5.14)\n",
    "\n",
    "def vt_new(adc):\n",
    "    \"\"\"\n",
    "    calculates vt from ASIC ADC code\n",
    "    inputs:\n",
    "    > adc (int) ASIC ADC code\n",
    "    \n",
    "    returns:\n",
    "    vt (float) voltage in mV\n",
    "    \"\"\"\n",
    "    \n",
    "    return 900 - ((adc-1024)*1.76/3.87)\n",
    "\n",
    "def convert(temp):\n",
    "    \"\"\"\n",
    "    convert old temperature into new\n",
    "    inputs:\n",
    "    > Old temperature (float) in degree-C\n",
    "    \"\"\"\n",
    "    vt_inverse = inversefunc(calcTemp)\n",
    "    adc_inverse = inversefunc(vt_old)\n",
    "    return calcTemp(vt_new(adc_inverse(vt_inverse(temp))))"
   ]
  },
  {
   "cell_type": "code",
   "execution_count": 107,
   "id": "76f577b9",
   "metadata": {},
   "outputs": [
    {
     "name": "stdout",
     "output_type": "stream",
     "text": [
      "-47.02821972750961\n"
     ]
    }
   ],
   "source": [
    "print(convert(-29))"
   ]
  },
  {
   "cell_type": "code",
   "execution_count": null,
   "id": "ae19cafa",
   "metadata": {},
   "outputs": [],
   "source": []
  }
 ],
 "metadata": {
  "kernelspec": {
   "display_name": "Python 3 (ipykernel)",
   "language": "python",
   "name": "python3"
  },
  "language_info": {
   "codemirror_mode": {
    "name": "ipython",
    "version": 3
   },
   "file_extension": ".py",
   "mimetype": "text/x-python",
   "name": "python",
   "nbconvert_exporter": "python",
   "pygments_lexer": "ipython3",
   "version": "3.9.6"
  }
 },
 "nbformat": 4,
 "nbformat_minor": 5
}
